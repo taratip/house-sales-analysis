{
 "cells": [
  {
   "cell_type": "code",
   "execution_count": 2,
   "metadata": {},
   "outputs": [],
   "source": [
    "import datetime as dt\n",
    "import pandas as pd\n",
    "import numpy as np\n",
    "import matplotlib.pyplot as plt\n",
    "\n",
    "from sklearn.preprocessing import StandardScaler\n",
    "from sklearn.model_selection import train_test_split\n",
    "from sklearn.metrics.pairwise import euclidean_distances\n",
    "from sklearn.cluster import KMeans\n",
    "from sklearn import metrics\n",
    "from scipy import stats\n",
    "from scipy.spatial.distance import cdist\n",
    "\n",
    "import warnings\n",
    "warnings.filterwarnings('ignore')\n",
    "\n",
    "%matplotlib inline"
   ]
  },
  {
   "cell_type": "code",
   "execution_count": 3,
   "metadata": {},
   "outputs": [],
   "source": [
    "# Read data\n",
    "all_df = pd.read_csv('all_types.csv')"
   ]
  },
  {
   "cell_type": "code",
   "execution_count": 4,
   "metadata": {},
   "outputs": [],
   "source": [
    "df = all_df[['bedrooms','bathrooms','finished_SqFt', 'total_rooms', 'neighborhood']]"
   ]
  },
  {
   "cell_type": "code",
   "execution_count": 5,
   "metadata": {},
   "outputs": [],
   "source": [
    "# Create dummies for categorical data\n",
    "neighborhood = pd.get_dummies(df['neighborhood'])\n",
    "df = pd.concat([df,neighborhood],axis=1)"
   ]
  },
  {
   "cell_type": "code",
   "execution_count": 6,
   "metadata": {},
   "outputs": [],
   "source": [
    "X = df.drop(['neighborhood'], axis=1)\n",
    "\n",
    "X.to_csv('cluster_df.csv')\n",
    "\n",
    "# Scale features\n",
    "scale = StandardScaler()\n",
    "scale.fit(X)\n",
    "scaled_df = scale.transform(X)"
   ]
  },
  {
   "cell_type": "code",
   "execution_count": 7,
   "metadata": {},
   "outputs": [],
   "source": [
    "# Find the best K\n",
    "distortions = []\n",
    "K = [2, 4, 6, 10, 20, 30, 50, 100]\n",
    "for k in K:\n",
    "    kmeanModel = KMeans(n_clusters=k).fit(scaled_df)\n",
    "    kmeanModel.fit(scaled_df)\n",
    "    distortions.append(sum(np.min(cdist(scaled_df, kmeanModel.cluster_centers_, 'euclidean'), axis=1)) / scaled_df.shape[0])"
   ]
  },
  {
   "cell_type": "code",
   "execution_count": 8,
   "metadata": {},
   "outputs": [
    {
     "data": {
      "image/png": "[encoded data removed]",
      "text/plain": [
       "<Figure size 432x288 with 1 Axes>"
      ]
     },
     "metadata": {},
     "output_type": "display_data"
    }
   ],
   "source": [
    "plt.plot(K, distortions, 'bx-')\n",
    "plt.xlabel('k')\n",
    "plt.ylabel('Distortion')\n",
    "plt.title('The Elbow Method showing the optimal k')\n",
    "plt.show()"
   ]
  },
  {
   "cell_type": "code",
   "execution_count": 9,
   "metadata": {},
   "outputs": [],
   "source": [
    "# Cluster the data using K = 50\n",
    "kmeans = KMeans(n_clusters=50)\n",
    "kmeans = kmeans.fit(scaled_df)\n",
    "\n",
    "labels = kmeans.predict(scaled_df)\n",
    "# Getting the cluster centers\n",
    "C = kmeans.cluster_centers_"
   ]
  },
  {
   "cell_type": "code",
   "execution_count": 10,
   "metadata": {},
   "outputs": [
    {
     "data": {
      "text/plain": [
       "-1875.239296944605"
      ]
     },
     "execution_count": 10,
     "metadata": {},
     "output_type": "execute_result"
    }
   ],
   "source": [
    "kmeans.score(scaled_df)"
   ]
  },
  {
   "cell_type": "code",
   "execution_count": 11,
   "metadata": {},
   "outputs": [],
   "source": [
    "# Glue back to originaal data\n",
    "all_df['cluster'] = labels"
   ]
  },
  {
   "cell_type": "code",
   "execution_count": 12,
   "metadata": {},
   "outputs": [],
   "source": [
    "# Sample user input\n",
    "user_input = {'bedrooms':5, 'bathrooms': 3,'finished_SqFt': 4500,'total_rooms': 12,\n",
    "'Allston': 0, \n",
    "'Back Bay': 0,              \n",
    "'Bay Village': 0,          \n",
    "'Beacon Hill': 0,           \n",
    "'Brighton': 0,  \n",
    "'Charlestown': 0, \n",
    "'Chinatown': 0, \n",
    "'Downtown': 0, \n",
    "'Downtown Crossing': 0, \n",
    "'East Boston': 0, \n",
    "'Fenway': 0, \n",
    "'Hyde Park': 0, \n",
    "'Jamaica Plain': 0, \n",
    "'Kenmore': 0, \n",
    "'Leather District': 0, \n",
    "'Mattapan': 0, \n",
    "'Mission Hill': 0, \n",
    "'North Dorchester': 0, \n",
    "'North End': 0, \n",
    "'Roslindale': 0, \n",
    "'Roxbury': 0, \n",
    "'South Boston' : 0,\n",
    "'South Dorchester': 0, \n",
    "'South End': 1, \n",
    "'West End': 0, \n",
    "'West Roxbury': 0, \n",
    "'Winthrop': 0}\n",
    "\n",
    "user_df = pd.DataFrame(user_input, index=[0])"
   ]
  },
  {
   "cell_type": "code",
   "execution_count": 13,
   "metadata": {},
   "outputs": [],
   "source": [
    "# Scale features from user input\n",
    "scaled_user_df = scale.transform(user_df)"
   ]
  },
  {
   "cell_type": "code",
   "execution_count": 14,
   "metadata": {},
   "outputs": [],
   "source": [
    "# Get cluster for user input\n",
    "user_cluster = kmeans.predict(scaled_user_df)"
   ]
  },
  {
   "cell_type": "code",
   "execution_count": 15,
   "metadata": {},
   "outputs": [
    {
     "name": "stdout",
     "output_type": "stream",
     "text": [
      "[30]\n"
     ]
    }
   ],
   "source": [
    "print(user_cluster)"
   ]
  },
  {
   "cell_type": "code",
   "execution_count": 16,
   "metadata": {},
   "outputs": [],
   "source": [
    "# Get distance from user input datapoint\n",
    "trans = kmeans.transform(scaled_df)"
   ]
  },
  {
   "cell_type": "code",
   "execution_count": 17,
   "metadata": {},
   "outputs": [
    {
     "data": {
      "text/plain": [
       "array([[ 6.98176428,  2.88468793,  7.04561622, ...,  8.20187273,\n",
       "        11.79410293,  6.81537279],\n",
       "       [ 5.41710354,  6.26960063,  5.41017409, ...,  7.50705686,\n",
       "        14.19943364,  5.51117926],\n",
       "       [ 7.02396666,  7.4842084 ,  7.11180396, ...,  7.29969663,\n",
       "        11.64151093,  6.47890827],\n",
       "       ...,\n",
       "       [ 6.08392701,  6.84011379,  6.077291  , ...,  7.96922709,\n",
       "        14.42273649,  6.14688357],\n",
       "       [17.44154483, 17.77618985, 17.44835251, ..., 18.63558878,\n",
       "        21.31123066, 17.50445755],\n",
       "       [ 5.00542334,  6.06327372,  4.79096634, ...,  8.01035313,\n",
       "        15.5719099 ,  5.53802271]])"
      ]
     },
     "execution_count": 17,
     "metadata": {},
     "output_type": "execute_result"
    }
   ],
   "source": [
    "trans"
   ]
  },
  {
   "cell_type": "code",
   "execution_count": 18,
   "metadata": {},
   "outputs": [
    {
     "name": "stdout",
     "output_type": "stream",
     "text": [
      "[1433, 610, 450]\n"
     ]
    }
   ],
   "source": [
    "# Get 3 closest points to user input\n",
    "closest_point1, closest_point2, closest_point3 = 0,0,0\n",
    "argsor = np.argsort(trans[:, user_cluster[0]])\n",
    "\n",
    "closest_points = []\n",
    "for i, argsortidx in enumerate(argsor):\n",
    "    if i == 3:\n",
    "        break\n",
    "    closest_points.append(argsortidx)\n",
    "\n",
    "print(closest_points)"
   ]
  },
  {
   "cell_type": "code",
   "execution_count": 19,
   "metadata": {},
   "outputs": [
    {
     "name": "stdout",
     "output_type": "stream",
     "text": [
      "Unnamed: 0                            1433\n",
      "title                              1800000\n",
      "address               195 W Springfield St\n",
      "city                                Boston\n",
      "state                                   MA\n",
      "zipcode                               2118\n",
      "price                              1.8e+06\n",
      "date_sold                    1499653800000\n",
      "readable_date_sold              2017-07-10\n",
      "bedrooms                                 4\n",
      "bathrooms                                4\n",
      "living_area                           2376\n",
      "lot_size                              1742\n",
      "year_built                            1900\n",
      "home_type                    SINGLE_FAMILY\n",
      "home_status                           SOLD\n",
      "finished_SqFt                         2376\n",
      "total_rooms                             10\n",
      "neighborhood                     South End\n",
      "DATE                            2017-07-01\n",
      "bed_bath                                 1\n",
      "lot_finish                        0.733165\n",
      "age                                    117\n",
      "p_sqft                             757.576\n",
      "finishedsqft_rooms                   237.6\n",
      "index                              201.641\n",
      "adjusted_price                  1.9086e+06\n",
      "adj_p_sqft                         803.281\n",
      "adj_price_m                         1.9086\n",
      "group                 high_price_high_freq\n",
      "zpid                              59183045\n",
      "cluster                                 30\n",
      "Name: 1433, dtype: object\n",
      "59183045\n",
      "Unnamed: 0                             610\n",
      "title                              2515000\n",
      "address                     6 E Concord St\n",
      "city                                Boston\n",
      "state                                   MA\n",
      "zipcode                               2118\n",
      "price                            2.515e+06\n",
      "date_sold                    1503057600000\n",
      "readable_date_sold              2017-08-18\n",
      "bedrooms                                 4\n",
      "bathrooms                              3.5\n",
      "living_area                           2702\n",
      "lot_size                              1459\n",
      "year_built                            1998\n",
      "home_type                    SINGLE_FAMILY\n",
      "home_status                           SOLD\n",
      "finished_SqFt                         2702\n",
      "total_rooms                             10\n",
      "neighborhood                     South End\n",
      "DATE                            2017-08-01\n",
      "bed_bath                           1.14286\n",
      "lot_finish                         0.53997\n",
      "age                                     19\n",
      "p_sqft                             930.792\n",
      "finishedsqft_rooms                   270.2\n",
      "index                              202.429\n",
      "adjusted_price                 2.65636e+06\n",
      "adj_p_sqft                         983.107\n",
      "adj_price_m                        2.65636\n",
      "group                 high_price_high_freq\n",
      "zpid                              59183559\n",
      "cluster                                 30\n",
      "Name: 610, dtype: object\n",
      "59183559\n",
      "Unnamed: 0                             450\n",
      "title                              2675000\n",
      "address               546 Columbus Ave # 2\n",
      "city                                Boston\n",
      "state                                   MA\n",
      "zipcode                               2118\n",
      "price                            2.675e+06\n",
      "date_sold                    1496889000000\n",
      "readable_date_sold              2017-06-08\n",
      "bedrooms                                 4\n",
      "bathrooms                                4\n",
      "living_area                           2850\n",
      "lot_size                              1486\n",
      "year_built                            1800\n",
      "home_type                            CONDO\n",
      "home_status                           SOLD\n",
      "finished_SqFt                         2850\n",
      "total_rooms                              8\n",
      "neighborhood                     South End\n",
      "DATE                            2017-06-01\n",
      "bed_bath                                 1\n",
      "lot_finish                        0.521404\n",
      "age                                    217\n",
      "p_sqft                             938.596\n",
      "finishedsqft_rooms                  356.25\n",
      "index                              200.088\n",
      "adjusted_price                  2.8584e+06\n",
      "adj_p_sqft                         1002.95\n",
      "adj_price_m                         2.8584\n",
      "group                 high_price_high_freq\n",
      "zpid                              59212618\n",
      "cluster                                 30\n",
      "Name: 450, dtype: object\n",
      "59212618\n"
     ]
    }
   ],
   "source": [
    "# Get data based on closest points\n",
    "for i in closest_points:\n",
    "    print(all_df.iloc[i])\n",
    "    print(all_df.loc[i,'zpid'])"
   ]
  },
  {
   "cell_type": "code",
   "execution_count": null,
   "metadata": {},
   "outputs": [],
   "source": []
  }
 ],
 "metadata": {
  "kernelspec": {
   "display_name": "Python 3",
   "language": "python",
   "name": "python3"
  },
  "language_info": {
   "codemirror_mode": {
    "name": "ipython",
    "version": 3
   },
   "file_extension": ".py",
   "mimetype": "text/x-python",
   "name": "python",
   "nbconvert_exporter": "python",
   "pygments_lexer": "ipython3",
   "version": "3.6.5"
  }
 },
 "nbformat": 4,
 "nbformat_minor": 2
}
