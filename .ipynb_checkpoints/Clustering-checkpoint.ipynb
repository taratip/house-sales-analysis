{
 "cells": [
  {
   "cell_type": "code",
   "execution_count": null,
   "metadata": {},
   "outputs": [],
   "source": [
    "import datetime as dt\n",
    "import pandas as pd\n",
    "import numpy as np\n",
    "import matplotlib.pyplot as plt\n",
    "\n",
    "from sklearn.preprocessing import StandardScaler\n",
    "from sklearn.cross_validation import train_test_split\n",
    "from sklearn.metrics.pairwise import euclidean_distances\n",
    "from sklearn.cluster import KMeans\n",
    "from sklearn import metrics\n",
    "from scipy import stats\n",
    "from scipy.spatial.distance import cdist\n",
    "\n",
    "%matplotlib inline\n"
   ]
  },
  {
   "cell_type": "code",
   "execution_count": null,
   "metadata": {},
   "outputs": [],
   "source": [
    "all_df = pd.read_csv('all_types.csv')\n",
    "all_df"
   ]
  },
  {
   "cell_type": "code",
   "execution_count": null,
   "metadata": {},
   "outputs": [],
   "source": [
    "df = all_df[['bedrooms','bathrooms','finished_SqFt', 'total_rooms', 'neighborhood']]"
   ]
  },
  {
   "cell_type": "code",
   "execution_count": null,
   "metadata": {},
   "outputs": [],
   "source": [
    "# Create dummies for categorical data\n",
    "neighborhood = pd.get_dummies(df['neighborhood'])\n",
    "df = pd.concat([df,neighborhood],axis=1)"
   ]
  },
  {
   "cell_type": "code",
   "execution_count": null,
   "metadata": {},
   "outputs": [],
   "source": [
    "df.info()"
   ]
  },
  {
   "cell_type": "code",
   "execution_count": null,
   "metadata": {},
   "outputs": [],
   "source": [
    "X = df.drop(['neighborhood'], axis=1)\n",
    "\n",
    "X.to_csv('cluster_df.csv')\n",
    "\n",
    "# Standardize\n",
    "scale = StandardScaler()\n",
    "scale.fit(X)\n",
    "scaled_df = scale.transform(X)\n",
    "print(scaled_df)"
   ]
  },
  {
   "cell_type": "code",
   "execution_count": null,
   "metadata": {},
   "outputs": [],
   "source": [
    "distortions = []\n",
    "K = [2, 4, 6, 10, 20, 30, 50, 100]\n",
    "for k in K:\n",
    "    kmeanModel = KMeans(n_clusters=k).fit(scaled_df)\n",
    "    kmeanModel.fit(scaled_df)\n",
    "    distortions.append(sum(np.min(cdist(scaled_df, kmeanModel.cluster_centers_, 'euclidean'), axis=1)) / scaled_df.shape[0])"
   ]
  },
  {
   "cell_type": "code",
   "execution_count": null,
   "metadata": {},
   "outputs": [],
   "source": [
    "plt.plot(K, distortions, 'bx-')\n",
    "plt.xlabel('k')\n",
    "plt.ylabel('Distortion')\n",
    "plt.title('The Elbow Method showing the optimal k')\n",
    "plt.show()"
   ]
  },
  {
   "cell_type": "code",
   "execution_count": null,
   "metadata": {},
   "outputs": [],
   "source": [
    "# Find the best k for clustering\n",
    "\n",
    "scores = []\n",
    "for k in [2, 4, 6, 10, 20, 30, 50, 100]:\n",
    "    kmeans2 = KMeans(n_clusters = k)\n",
    "    kmeans2.fit(scaled_df)\n",
    "    scores.append(metrics.silhouette_score(scaled_df, kmeans2.labels_))\n",
    "\n",
    "scores"
   ]
  },
  {
   "cell_type": "code",
   "execution_count": null,
   "metadata": {},
   "outputs": [],
   "source": [
    "#Cluster the data\n",
    "kmeans = KMeans(n_clusters=50)\n",
    "kmeans = kmeans.fit(scaled_df)\n",
    "\n",
    "labels = kmeans.predict(scaled_df)\n",
    "# Getting the cluster centers\n",
    "C = kmeans.cluster_centers_"
   ]
  },
  {
   "cell_type": "code",
   "execution_count": null,
   "metadata": {},
   "outputs": [],
   "source": [
    "C"
   ]
  },
  {
   "cell_type": "code",
   "execution_count": null,
   "metadata": {},
   "outputs": [],
   "source": [
    "kmeans.score(scaled_df)"
   ]
  },
  {
   "cell_type": "code",
   "execution_count": null,
   "metadata": {},
   "outputs": [],
   "source": [
    "#Glue back to originaal data\n",
    "all_df['cluster'] = labels"
   ]
  },
  {
   "cell_type": "code",
   "execution_count": null,
   "metadata": {},
   "outputs": [],
   "source": [
    "all_df.head()"
   ]
  },
  {
   "cell_type": "code",
   "execution_count": null,
   "metadata": {},
   "outputs": [],
   "source": [
    "# Sample user input\n",
    "user_input = {'bedrooms':5, 'bathrooms': 3,'finished_SqFt': 4500,'total_rooms': 12,\n",
    "'Allston': 0, \n",
    "'Back Bay': 0,              \n",
    "'Bay Village': 0,          \n",
    "'Beacon Hill': 0,           \n",
    "'Brighton': 0,  \n",
    "'Charlestown': 0, \n",
    "'Chinatown': 0, \n",
    "'Downtown': 0, \n",
    "'Downtown Crossing': 0, \n",
    "'East Boston': 0, \n",
    "'Fenway': 0, \n",
    "'Hyde Park': 0, \n",
    "'Jamaica Plain': 0, \n",
    "'Kenmore': 0, \n",
    "'Leather District': 0, \n",
    "'Mattapan': 0, \n",
    "'Mission Hill': 0, \n",
    "'North Dorchester': 0, \n",
    "'North End': 0, \n",
    "'Roslindale': 0, \n",
    "'Roxbury': 0, \n",
    "'South Boston' : 0,\n",
    "'South Dorchester': 0, \n",
    "'South End': 1, \n",
    "'West End': 0, \n",
    "'West Roxbury': 0, \n",
    "'Winthrop': 0}\n",
    "\n",
    "user_df = pd.DataFrame(user_input, index=[0])\n",
    "print(user_df)"
   ]
  },
  {
   "cell_type": "code",
   "execution_count": null,
   "metadata": {},
   "outputs": [],
   "source": [
    "# scale = StandardScaler()\n",
    "scaled_user_df = scale.transform(user_df)\n",
    "print(scaled_user_df)"
   ]
  },
  {
   "cell_type": "code",
   "execution_count": null,
   "metadata": {},
   "outputs": [],
   "source": [
    "# Get cluster for user input\n",
    "user_cluster = kmeans.predict(scaled_user_df)"
   ]
  },
  {
   "cell_type": "code",
   "execution_count": null,
   "metadata": {},
   "outputs": [],
   "source": [
    "print(user_cluster)"
   ]
  },
  {
   "cell_type": "code",
   "execution_count": null,
   "metadata": {},
   "outputs": [],
   "source": [
    "# Get distance from user input datapoint\n",
    "trans = kmeans.transform(scaled_df)"
   ]
  },
  {
   "cell_type": "code",
   "execution_count": null,
   "metadata": {},
   "outputs": [],
   "source": [
    "trans"
   ]
  },
  {
   "cell_type": "code",
   "execution_count": null,
   "metadata": {},
   "outputs": [],
   "source": [
    "closest_point1, closest_point2, closest_point3 = 0,0,0\n",
    "argsor = np.argsort(trans[:, user_cluster[0]])\n",
    "\n",
    "closest_points = []\n",
    "for i, argsortidx in enumerate(argsor):\n",
    "    if i == 3:\n",
    "        break\n",
    "    closest_points.append(argsortidx)\n",
    "\n",
    "print(closest_points)"
   ]
  },
  {
   "cell_type": "code",
   "execution_count": null,
   "metadata": {},
   "outputs": [],
   "source": [
    "for i in closest_points:\n",
    "    print(all_df.iloc[i])\n",
    "    print(all_df.loc[i,'zpid'])"
   ]
  },
  {
   "cell_type": "code",
   "execution_count": null,
   "metadata": {},
   "outputs": [],
   "source": []
  }
 ],
 "metadata": {
  "kernelspec": {
   "display_name": "Python 3",
   "language": "python",
   "name": "python3"
  },
  "language_info": {
   "codemirror_mode": {
    "name": "ipython",
    "version": 3
   },
   "file_extension": ".py",
   "mimetype": "text/x-python",
   "name": "python",
   "nbconvert_exporter": "python",
   "pygments_lexer": "ipython3",
   "version": "3.6.5"
  }
 },
 "nbformat": 4,
 "nbformat_minor": 2
}
