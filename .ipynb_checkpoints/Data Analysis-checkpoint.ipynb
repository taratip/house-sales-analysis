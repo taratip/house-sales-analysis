{
 "cells": [
  {
   "cell_type": "code",
   "execution_count": null,
   "metadata": {},
   "outputs": [],
   "source": [
    "import datetime as dt\n",
    "import pandas as pd\n",
    "import numpy as np\n",
    "import matplotlib.pyplot as plt\n",
    "import seaborn as sns\n",
    "\n",
    "from sklearn.model_selection import cross_val_score\n",
    "from sklearn.model_selection import train_test_split\n",
    "from sklearn.tree import DecisionTreeRegressor\n",
    "from sklearn.ensemble import RandomForestRegressor\n",
    "\n",
    "from sklearn.linear_model import LinearRegression\n",
    "from sklearn.linear_model import LassoCV\n",
    "from sklearn.linear_model import RidgeCV\n",
    "from sklearn.linear_model import Ridge\n",
    "\n",
    "from sklearn.metrics import r2_score\n",
    "from sklearn.metrics import mean_squared_error\n",
    "from sklearn.metrics import mean_absolute_error\n",
    "\n",
    "%matplotlib inline"
   ]
  },
  {
   "cell_type": "code",
   "execution_count": null,
   "metadata": {},
   "outputs": [],
   "source": [
    "df = pd.read_csv('final_data.csv')"
   ]
  },
  {
   "cell_type": "code",
   "execution_count": null,
   "metadata": {
    "scrolled": false
   },
   "outputs": [],
   "source": [
    "df.head()"
   ]
  },
  {
   "cell_type": "code",
   "execution_count": null,
   "metadata": {},
   "outputs": [],
   "source": [
    "df.info()"
   ]
  },
  {
   "cell_type": "code",
   "execution_count": null,
   "metadata": {},
   "outputs": [],
   "source": [
    "# Replace price where is null with 0\n",
    "df.set_value(df['price'].isnull(),'price',0)"
   ]
  },
  {
   "cell_type": "code",
   "execution_count": null,
   "metadata": {},
   "outputs": [],
   "source": [
    "# Drop rows with finished_SqFt having null value\n",
    "df = df.dropna(subset=['finished_SqFt'])"
   ]
  },
  {
   "cell_type": "code",
   "execution_count": null,
   "metadata": {},
   "outputs": [],
   "source": [
    "# There are some with missing total rooms\n",
    "# Fill in missing total rooms\n",
    "def find_total_rooms(row):\n",
    "    beds = row['bedrooms']\n",
    "    baths = row['bathrooms']\n",
    "\n",
    "    try:\n",
    "        avg_rooms = int(df[(df['bedrooms'] == beds) & (df['bathrooms'] == baths)]['total_rooms'].mean())\n",
    "    except:\n",
    "        avg_rooms = beds + baths\n",
    "\n",
    "    return avg_rooms\n",
    "    \n",
    "\n",
    "for i, row in df[df['total_rooms'].isnull()].iterrows():\n",
    "    total_rooms = find_total_rooms(row)\n",
    "    df.set_value(i, 'total_rooms', total_rooms)\n",
    "    \n",
    "df.head(40)"
   ]
  },
  {
   "cell_type": "code",
   "execution_count": null,
   "metadata": {},
   "outputs": [],
   "source": [
    "df.describe()"
   ]
  },
  {
   "cell_type": "code",
   "execution_count": null,
   "metadata": {},
   "outputs": [],
   "source": [
    "df.columns"
   ]
  },
  {
   "cell_type": "code",
   "execution_count": null,
   "metadata": {},
   "outputs": [],
   "source": [
    "# convert to datetime format\n",
    "df['readable_date_sold'] = pd.to_datetime(df['readable_date_sold'])\n",
    "df['year_built'] = pd.to_datetime(df['year_built'], format='%Y').dt.year\n",
    "df['DATE'] = pd.to_datetime(df['readable_date_sold'].apply(lambda x: x.replace(day=1)).dt.date)"
   ]
  },
  {
   "cell_type": "code",
   "execution_count": null,
   "metadata": {},
   "outputs": [],
   "source": [
    "# Create additional features\n",
    "def zipcode(x):\n",
    "    return str(x).zfill(5)\n",
    "\n",
    "df['zipcode'] = df['zipcode'].apply(zipcode)\n"
   ]
  },
  {
   "cell_type": "code",
   "execution_count": null,
   "metadata": {},
   "outputs": [],
   "source": [
    "# bathroom / bedroom\n",
    "df['bed_bath'] = df['bedrooms']/df['bathrooms']\n",
    "\n",
    "# lot size / finished_SqFt\n",
    "df['lot_finish'] = df['lot_size'] / df['finished_SqFt']\n",
    "\n",
    "# how old the house is\n",
    "df['age'] = df['readable_date_sold'].dt.year - df['year_built']\n",
    "\n",
    "# price per finished_SqFt\n",
    "df['p_sqft'] = df['price'] / df['finished_SqFt']\n",
    "\n",
    "# finished_SqFt / total rooms\n",
    "df['finishedsqft_rooms'] = df['finished_SqFt'] / df['total_rooms']\n",
    "df.head()"
   ]
  },
  {
   "cell_type": "code",
   "execution_count": null,
   "metadata": {},
   "outputs": [],
   "source": [
    "# Read the house price index\n",
    "dateparse = lambda dates: pd.to_datetime(dates)\n",
    "index_df = pd.read_csv('final_hpi.csv',parse_dates=['DATE'], date_parser=dateparse)\n",
    "\n",
    "index_df.head()"
   ]
  },
  {
   "cell_type": "code",
   "execution_count": null,
   "metadata": {},
   "outputs": [],
   "source": [
    "index_df.dtypes"
   ]
  },
  {
   "cell_type": "code",
   "execution_count": null,
   "metadata": {},
   "outputs": [],
   "source": [
    "# Join house price index to df based on month\n",
    "df = pd.merge(df, index_df, on='DATE')"
   ]
  },
  {
   "cell_type": "code",
   "execution_count": null,
   "metadata": {},
   "outputs": [],
   "source": [
    "df.head()"
   ]
  },
  {
   "cell_type": "code",
   "execution_count": null,
   "metadata": {},
   "outputs": [],
   "source": [
    "# Adjust price to 2018-07 (213.806) and create more features\n",
    "\n",
    "df['adjusted_price'] = (df['price'] / df['index']) * 213.806\n",
    "df['adj_p_sqft'] = df['adjusted_price'] / df['finished_SqFt']\n",
    "\n",
    "# Normalized price\n",
    "df['adj_price_m'] = df['adjusted_price'] / 1000000.0\n"
   ]
  },
  {
   "cell_type": "code",
   "execution_count": null,
   "metadata": {},
   "outputs": [],
   "source": [
    "df.head()"
   ]
  },
  {
   "cell_type": "code",
   "execution_count": null,
   "metadata": {},
   "outputs": [],
   "source": [
    "df.groupby('neighborhood').count()"
   ]
  },
  {
   "cell_type": "code",
   "execution_count": null,
   "metadata": {},
   "outputs": [],
   "source": [
    "# Location is important factor contributing to price but user will not know longtitude and latitude\n",
    "# so using neighborhood can also determine the location\n",
    "#\n",
    "# Cluster neighborhoods instead of creating dummies for all neighborhoods \n",
    "# since there are neighborhoods having with only 1 transaction activity\n",
    "# \n",
    "# Group determined by how frequence of transactions in the area and avg adjusted price per sqft\n",
    "\n",
    "# freq = total sales in the neighborhood\n",
    "freq = df.groupby('neighborhood').count()['address']\n",
    "\n",
    "# mean_price = average adjusted price per sqft\n",
    "mean_price = df.groupby('neighborhood').mean()['adj_p_sqft']\n",
    "\n",
    "# create cluster dataframe\n",
    "cluster = pd.concat([freq, mean_price], axis=1)\n",
    "cluster['neighborhood'] = cluster.index\n",
    "\n",
    "cluster.columns = ['freq', 'adj_p_sqft', 'neighborhood']"
   ]
  },
  {
   "cell_type": "code",
   "execution_count": null,
   "metadata": {},
   "outputs": [],
   "source": [
    "cluster.describe()"
   ]
  },
  {
   "cell_type": "code",
   "execution_count": null,
   "metadata": {},
   "outputs": [],
   "source": [
    "cluster.to_csv('cluster.csv')"
   ]
  },
  {
   "cell_type": "code",
   "execution_count": null,
   "metadata": {},
   "outputs": [],
   "source": [
    "# Cluster the neighborhood into three groups: \n",
    "# 1. Low frequency\n",
    "# 2. High price, High frequency\n",
    "# 3. Low price, High frequency\n",
    "\n",
    "# Low frequency\n",
    "cluster1 = cluster[cluster['freq'] < 61]\n",
    "cluster1.index"
   ]
  },
  {
   "cell_type": "code",
   "execution_count": null,
   "metadata": {},
   "outputs": [],
   "source": [
    "# Low price, High frequency\n",
    "cluster_temp = cluster[cluster['adj_p_sqft'] <= 749]\n",
    "cluster2 = cluster_temp[cluster_temp['freq'] >= 61]\n",
    "cluster2.index"
   ]
  },
  {
   "cell_type": "code",
   "execution_count": null,
   "metadata": {},
   "outputs": [],
   "source": [
    "# High price, High frequency\n",
    "cluster_temp = cluster[cluster['adj_p_sqft'] > 749]\n",
    "cluster3 = cluster_temp[cluster_temp.freq >= 61]\n",
    "cluster3.index"
   ]
  },
  {
   "cell_type": "code",
   "execution_count": null,
   "metadata": {},
   "outputs": [],
   "source": [
    "# Plot cluster\n",
    "def get_color(x):\n",
    "    if x in cluster1.index:\n",
    "        return 'green'\n",
    "    elif x in cluster2.index:\n",
    "        return 'blue'\n",
    "    else:\n",
    "        return 'red'\n",
    "    \n",
    "cluster['color'] = cluster['neighborhood'].apply(get_color) \n",
    "\n",
    "fix, ax = plt.subplots(figsize=(12, 7))\n",
    "ax.scatter(cluster['freq'], cluster['adj_p_sqft'], c=cluster['color'])\n",
    "ax.axes.tick_params(labelsize=20)\n",
    "ax.set_xlabel('Total Sales', size=20)\n",
    "ax.set_ylabel('Average Adj Price per SqFt', size=20)"
   ]
  },
  {
   "cell_type": "code",
   "execution_count": null,
   "metadata": {},
   "outputs": [],
   "source": [
    "# Add group index to df based on the neighborhood clusters\n",
    "def get_group(x):\n",
    "    if x in cluster1.index:\n",
    "        return 'low_freq'\n",
    "    elif x in cluster2.index:\n",
    "        return 'low_price_high_freq'\n",
    "    else:\n",
    "        return 'high_price_high_freq'\n",
    "    \n",
    "df['group'] = df['neighborhood'].apply(get_group)"
   ]
  },
  {
   "cell_type": "code",
   "execution_count": null,
   "metadata": {},
   "outputs": [],
   "source": [
    "df.head()"
   ]
  },
  {
   "cell_type": "code",
   "execution_count": null,
   "metadata": {},
   "outputs": [],
   "source": [
    "sns.set_palette(\"GnBu_d\")\n",
    "sns.set_style('whitegrid')\n",
    "plt.scatter(df['adj_price_m'], df['living_area'])\n",
    "plt.title('Adj Price vs Living Area')\n",
    "plt.xlabel('Price')\n",
    "plt.ylabel('Living Area')"
   ]
  },
  {
   "cell_type": "code",
   "execution_count": null,
   "metadata": {},
   "outputs": [],
   "source": [
    "plt.scatter(df['bedrooms'], df['adj_price_m'])\n",
    "plt.title('Bedrooms vs Adj Price')\n",
    "plt.xlabel('Bedroom')\n",
    "plt.ylabel('Price')\n",
    "plt.show()\n",
    "sns.despine"
   ]
  },
  {
   "cell_type": "code",
   "execution_count": null,
   "metadata": {},
   "outputs": [],
   "source": [
    "plt.scatter(df['bathrooms'], df['adj_price_m'])\n",
    "plt.title('Bathrooms vs Adj Price')\n",
    "plt.xlabel('Bathrooms')\n",
    "plt.ylabel('Price')\n",
    "plt.show()\n",
    "sns.despine"
   ]
  },
  {
   "cell_type": "code",
   "execution_count": null,
   "metadata": {},
   "outputs": [],
   "source": [
    "plt.scatter(df['total_rooms'], df['adj_price_m'])\n",
    "plt.title('Total Rooms vs Adj Price')\n",
    "plt.xlabel('Total Rooms')\n",
    "plt.ylabel('Price')\n",
    "plt.show()\n",
    "sns.despine"
   ]
  },
  {
   "cell_type": "code",
   "execution_count": null,
   "metadata": {},
   "outputs": [],
   "source": [
    "fig, ax = plt.subplots(figsize=(20, 10))\n",
    "plt.scatter(df['zipcode'], df['adj_price_m'])\n",
    "plt.title('Which is the pricey location by zipcode?')"
   ]
  },
  {
   "cell_type": "code",
   "execution_count": null,
   "metadata": {},
   "outputs": [],
   "source": [
    "fig = plt.figure(figsize=(15,15))\n",
    "ax = fig.add_subplot(111)\n",
    "df.hist(ax=ax, stacked = True)"
   ]
  },
  {
   "cell_type": "code",
   "execution_count": null,
   "metadata": {},
   "outputs": [],
   "source": [
    "df.describe()"
   ]
  },
  {
   "cell_type": "code",
   "execution_count": null,
   "metadata": {},
   "outputs": [],
   "source": [
    "cols = list(df.columns.values) # Make a list of all of the columns in the df\n",
    "cols.pop(cols.index('zpid')) # Remove zpid from list\n",
    "df = df[cols+['zpid']] # Put zpid to last column of the df"
   ]
  },
  {
   "cell_type": "code",
   "execution_count": null,
   "metadata": {},
   "outputs": [],
   "source": [
    "df.to_csv('all_types.csv')"
   ]
  },
  {
   "cell_type": "code",
   "execution_count": null,
   "metadata": {},
   "outputs": [],
   "source": [
    "all_df = pd.read_csv('all_types.csv')\n",
    "all_df.head()\n",
    "print(all_df.dtypes)"
   ]
  },
  {
   "cell_type": "code",
   "execution_count": null,
   "metadata": {},
   "outputs": [],
   "source": [
    "len(all_df.index)"
   ]
  },
  {
   "cell_type": "code",
   "execution_count": null,
   "metadata": {},
   "outputs": [],
   "source": [
    "# Check correlations\n",
    "correlations = all_df[['adj_price_m','bathrooms','bedrooms','total_rooms','lot_size','bed_bath','finished_SqFt','age',\n",
    "      'finishedsqft_rooms']].corr()\n",
    "names = all_df[['adj_price_m','bathrooms','bedrooms','total_rooms','lot_size','bed_bath','finished_SqFt','age',\n",
    "      'finishedsqft_rooms']].keys()\n",
    "print(names)\n",
    "fig = plt.figure(figsize=(20,20))\n",
    "ax = fig.add_subplot(111)\n",
    "cax = ax.matshow(correlations, vmin=-1, vmax=1)\n",
    "fig.colorbar(cax)\n",
    "ticks = np.arange(0,len(names),1)\n",
    "ax.set_xticks(ticks)\n",
    "ax.set_yticks(ticks)\n",
    "ax.set_xticklabels(names)\n",
    "ax.set_yticklabels(names,size=20)\n",
    "plt.show()"
   ]
  },
  {
   "cell_type": "code",
   "execution_count": null,
   "metadata": {},
   "outputs": [],
   "source": [
    "plt.scatter(all_df['bed_bath'], all_df['adj_price_m'])"
   ]
  },
  {
   "cell_type": "code",
   "execution_count": null,
   "metadata": {},
   "outputs": [],
   "source": [
    "# Training all dataset\n",
    "y = all_df['adj_price_m']\n",
    "X = all_df[['bathrooms','bedrooms','finished_SqFt','total_rooms','finishedsqft_rooms','bed_bath','age','lot_size',\n",
    "        'lot_finish']]\n",
    "\n",
    "# Create dummies for groups and home types\n",
    "group = pd.get_dummies(all_df['group'])\n",
    "home_type = pd.get_dummies(all_df['home_type'])\n",
    "\n",
    "X = pd.concat([X,group,home_type],axis=1)\n",
    "\n",
    "X.head()"
   ]
  },
  {
   "cell_type": "code",
   "execution_count": null,
   "metadata": {},
   "outputs": [],
   "source": [
    "X_train, X_test, y_train, y_test = train_test_split(X, y, test_size=0.3, random_state=101)"
   ]
  },
  {
   "cell_type": "code",
   "execution_count": null,
   "metadata": {},
   "outputs": [],
   "source": [
    "# Linear Regression\n",
    "lm = LinearRegression()\n",
    "\n",
    "lm.fit(X_train,y_train)\n",
    "predictions = lm.predict(X_test)\n",
    "\n",
    "plt.scatter(y_test,predictions)\n",
    "plt.xlabel('Y Test')\n",
    "plt.ylabel('Predicted Y')\n",
    "\n",
    "print(np.mean(cross_val_score(lm, X_train.iloc[:,:-1], y_train)))\n",
    "\n",
    "# Calculate R squared\n",
    "# -117% of the variability in Y can be explained using X\n",
    "print('Linear Regression R squared\": %.4f' % lm.score(X_test, y_test))\n",
    "\n",
    "# Calculate root-mean-square error (RMSE)\n",
    "# The model was able to predict the value of every house in the test set within $2,688,200 of the real price\n",
    "lin_mse = mean_squared_error(predictions, y_test)\n",
    "lin_rmse = np.sqrt(lin_mse)\n",
    "print('Linear Regression RMSE: %.4f' % lin_rmse)\n",
    "\n",
    "# Calculate mean absolute error (MAE)\n",
    "lin_mae = mean_absolute_error(predictions, y_test)\n",
    "print('Linear Regression MAE: %.4f' % lin_mae)"
   ]
  },
  {
   "cell_type": "code",
   "execution_count": null,
   "metadata": {},
   "outputs": [],
   "source": [
    "# Regression tree\n",
    "# The depth of the tree is choosen by cross validation\n",
    "score = []\n",
    "for i in range(1,15):\n",
    "    dt = DecisionTreeRegressor(max_depth=i)\n",
    "    score += [np.mean(cross_val_score(dt, X_train.iloc[:,:-1], y_train))]"
   ]
  },
  {
   "cell_type": "code",
   "execution_count": null,
   "metadata": {},
   "outputs": [],
   "source": [
    "plt.plot(range(1,15),score)"
   ]
  },
  {
   "cell_type": "code",
   "execution_count": null,
   "metadata": {},
   "outputs": [],
   "source": [
    "dt = DecisionTreeRegressor(max_depth=3)\n",
    "dt.fit(X_train,y_train)\n",
    "\n",
    "predictions = dt.predict(X_test)\n",
    "np.mean(cross_val_score(dt, X_train.iloc[:,:-1], y_train))\n",
    "\n",
    "# Calculate R squared\n",
    "print('Decision Tree Regression R squared\": %.4f' % dt.score(X_test, y_test))\n",
    "\n",
    "# Calculate root-mean-square error (RMSE)\n",
    "lin_mse = mean_squared_error(predictions, y_test)\n",
    "lin_rmse = np.sqrt(lin_mse)\n",
    "print('Decision Tree Regression RMSE: %.4f' % lin_rmse)\n",
    "\n",
    "# Calculate mean absolute error (MAE)\n",
    "lin_mae = mean_absolute_error(predictions, y_test)\n",
    "print('Decision Tree Regression MAE: %.4f' % lin_mae)"
   ]
  },
  {
   "cell_type": "code",
   "execution_count": null,
   "metadata": {},
   "outputs": [],
   "source": [
    "# Randomforest regression\n",
    "# For different number of trees, test different depth\n",
    "num_trees = [10,20,40,100]\n",
    "d_score = {}\n",
    "for e in num_trees:\n",
    "    for i in range(1,15):\n",
    "        rf = RandomForestRegressor(n_estimators=e, max_depth=i)\n",
    "        if e in d_score:\n",
    "            d_score[e] += [np.mean(cross_val_score(rf, X_train.iloc[:,:-1], y_train))]\n",
    "        else:\n",
    "            d_score[e] = [np.mean(cross_val_score(rf, X_train.iloc[:,:-1], y_train))]"
   ]
  },
  {
   "cell_type": "code",
   "execution_count": null,
   "metadata": {},
   "outputs": [],
   "source": [
    "pd.DataFrame(d_score).plot(style=['r', 'b', 'y', 'g'])"
   ]
  },
  {
   "cell_type": "code",
   "execution_count": null,
   "metadata": {},
   "outputs": [],
   "source": [
    "rf = RandomForestRegressor(n_estimators=20, max_depth=3)\n",
    "\n",
    "rf.fit(X_train,y_train)\n",
    "\n",
    "predictions = rf.predict(X_test)\n",
    "np.mean(cross_val_score(rf, X_train.iloc[:,:-1], y_train))\n",
    "\n",
    "# Calculate R squared\n",
    "print('Random Forest Regression R squared\": %.4f' % rf.score(X_test, y_test))\n",
    "\n",
    "# Calculate root-mean-square error (RMSE)\n",
    "lin_mse = mean_squared_error(predictions, y_test)\n",
    "lin_rmse = np.sqrt(lin_mse)\n",
    "print('Random Forest Regression RMSE: %.4f' % lin_rmse)\n",
    "\n",
    "# Calculate mean absolute error (MAE)\n",
    "lin_mae = mean_absolute_error(predictions, y_test)\n",
    "print('Random Forest Regression MAE: %.4f' % lin_mae)"
   ]
  },
  {
   "cell_type": "code",
   "execution_count": null,
   "metadata": {},
   "outputs": [],
   "source": [
    "from sklearn import ensemble\n",
    "from sklearn.ensemble import GradientBoostingRegressor\n",
    "\n",
    "gbr = ensemble.GradientBoostingRegressor()\n",
    "gbr.fit(X_train, y_train)\n",
    "predictions = gbr.predict(X_test)\n",
    "np.mean(cross_val_score(gbr, X_train.iloc[:,:-1], y_train))\n",
    "\n",
    "# Calculate R squared\n",
    "print('Gradient Boosting Regression R squared\": %.4f' % gbr.score(X_test, y_test))\n",
    "\n",
    "# Calculate root-mean-square error (RMSE)\n",
    "lin_mse = mean_squared_error(predictions, y_test)\n",
    "lin_rmse = np.sqrt(lin_mse)\n",
    "print('Gradient Boosting Regression RMSE: %.4f' % lin_rmse)\n",
    "\n",
    "# Calculate mean absolute error (MAE)\n",
    "lin_mae = mean_absolute_error(predictions, y_test)\n",
    "print('Gradient Boosting Regression MAE: %.4f' % lin_mae)\n",
    "\n"
   ]
  },
  {
   "cell_type": "code",
   "execution_count": null,
   "metadata": {},
   "outputs": [],
   "source": [
    "# Find out which features are important\n",
    "# The most important features are finished sqft per room, finished sqft, total rooms, \n",
    "# lot size and so on. And the least important feature is Townhouse, which means that regardless of whether this unit is townhouse or not\n",
    "feature_labels = np.array(['bathrooms','bedrooms','finished_SqFt','total_rooms','finishedsqft_rooms','bed_bath','age','lot_size',\n",
    "        'lot_finish','high_price_high_freq','low_freq','low_price_high_freq','APARTMENT','CONDO','MULTI_FAMILY','SINGLE_FAMILY','TOWNHOUSE'])\n",
    "importance = gbr.feature_importances_\n",
    "feature_indexes_by_importance = importance.argsort()\n",
    "for index in feature_indexes_by_importance:\n",
    "    print('{}-{:.2f}%'.format(feature_labels[index], (importance[index] *100.0)))"
   ]
  },
  {
   "cell_type": "code",
   "execution_count": null,
   "metadata": {},
   "outputs": [],
   "source": [
    "# Set the style\n",
    "plt.style.use('fivethirtyeight')\n",
    "\n",
    "# list of x locations for plotting\n",
    "x_values = list(range(len(importance)))\n",
    "# Make a bar chart\n",
    "plt.bar(x_values, importance, orientation = 'vertical')\n",
    "# Tick labels for x axis\n",
    "plt.xticks(x_values, feature_labels, rotation='vertical')\n",
    "# Axis labels and title\n",
    "plt.ylabel('Importance'); plt.xlabel('Features'); plt.title('Feature Importances');"
   ]
  },
  {
   "cell_type": "code",
   "execution_count": null,
   "metadata": {},
   "outputs": [],
   "source": []
  }
 ],
 "metadata": {
  "kernelspec": {
   "display_name": "Python 3",
   "language": "python",
   "name": "python3"
  },
  "language_info": {
   "codemirror_mode": {
    "name": "ipython",
    "version": 3
   },
   "file_extension": ".py",
   "mimetype": "text/x-python",
   "name": "python",
   "nbconvert_exporter": "python",
   "pygments_lexer": "ipython3",
   "version": "3.6.5"
  }
 },
 "nbformat": 4,
 "nbformat_minor": 2
}
